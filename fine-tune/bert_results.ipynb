{
 "cells": [
  {
   "cell_type": "code",
   "execution_count": 1,
   "metadata": {},
   "outputs": [
    {
     "name": "stderr",
     "output_type": "stream",
     "text": [
      "/Users/carlhelin/anaconda3/lib/python3.11/site-packages/pandas/core/arrays/masked.py:60: UserWarning: Pandas requires version '1.3.6' or newer of 'bottleneck' (version '1.3.5' currently installed).\n",
      "  from pandas.core import (\n"
     ]
    },
    {
     "name": "stdout",
     "output_type": "stream",
     "text": [
      "Dataset structured_Abt-Buy does not exist\n",
      "Dataset textual_DBLP-ACM does not exist\n",
      "Dataset textual_Amazon-Google does not exist\n",
      "Dataset textual_Walmart-Amazon does not exist\n",
      "Dataset textual_DBLP-GoogleScholar does not exist\n",
      "Dataset textual_Fodors-Zagats does not exist\n",
      "Dataset textual_Beer does not exist\n",
      "Dataset textual_iTunes-Amazon does not exist\n",
      "Dataset dirty_Abt-Buy does not exist\n",
      "Dataset dirty_Amazon-Google does not exist\n",
      "Dataset dirty_Fodors-Zagats does not exist\n",
      "Dataset dirty_Beer does not exist\n"
     ]
    },
    {
     "name": "stderr",
     "output_type": "stream",
     "text": [
      "/Users/carlhelin/Library/CloudStorage/OneDrive-UniversitetetiOslo/Uni Macquarie/COMP8420/major-project/fine-tune/bert_functions.py:15: UserWarning: To copy construct from a tensor, it is recommended to use sourceTensor.clone().detach() or sourceTensor.clone().detach().requires_grad_(True), rather than torch.tensor(sourceTensor).\n",
      "  item = {key: torch.tensor(val[idx]) for key, val in self.data.items()}\n"
     ]
    },
    {
     "data": {
      "application/vnd.jupyter.widget-view+json": {
       "model_id": "5307f66e2f61410f93508e746246597f",
       "version_major": 2,
       "version_minor": 0
      },
      "text/plain": [
       "  0%|          | 0/14 [00:00<?, ?it/s]"
      ]
     },
     "metadata": {},
     "output_type": "display_data"
    },
    {
     "name": "stdout",
     "output_type": "stream",
     "text": [
      "Results for dirty_DBLP-ACM_test, {'eval_loss': 0.6117464900016785, 'eval_accuracy': 0.6914414414414415, 'eval_f1': 0.6836027713625866, 'eval_precision': 0.7014218009478673, 'eval_recall': 0.6666666666666666, 'eval_runtime': 49.0595, 'eval_samples_per_second': 18.1, 'eval_steps_per_second': 0.285}\n"
     ]
    },
    {
     "name": "stderr",
     "output_type": "stream",
     "text": [
      "/Users/carlhelin/Library/CloudStorage/OneDrive-UniversitetetiOslo/Uni Macquarie/COMP8420/major-project/fine-tune/bert_functions.py:15: UserWarning: To copy construct from a tensor, it is recommended to use sourceTensor.clone().detach() or sourceTensor.clone().detach().requires_grad_(True), rather than torch.tensor(sourceTensor).\n",
      "  item = {key: torch.tensor(val[idx]) for key, val in self.data.items()}\n"
     ]
    },
    {
     "data": {
      "application/vnd.jupyter.widget-view+json": {
       "model_id": "fc1e0ae8a3ea4064a5c3e458032890f5",
       "version_major": 2,
       "version_minor": 0
      },
      "text/plain": [
       "  0%|          | 0/34 [00:00<?, ?it/s]"
      ]
     },
     "metadata": {},
     "output_type": "display_data"
    },
    {
     "name": "stdout",
     "output_type": "stream",
     "text": [
      "Results for dirty_DBLP-GoogleScholar_test, {'eval_loss': 0.5336354970932007, 'eval_accuracy': 0.755607476635514, 'eval_f1': 0.7503579952267303, 'eval_precision': 0.7668292682926829, 'eval_recall': 0.7345794392523365, 'eval_runtime': 108.2397, 'eval_samples_per_second': 19.771, 'eval_steps_per_second': 0.314}\n"
     ]
    },
    {
     "name": "stderr",
     "output_type": "stream",
     "text": [
      "/Users/carlhelin/Library/CloudStorage/OneDrive-UniversitetetiOslo/Uni Macquarie/COMP8420/major-project/fine-tune/bert_functions.py:15: UserWarning: To copy construct from a tensor, it is recommended to use sourceTensor.clone().detach() or sourceTensor.clone().detach().requires_grad_(True), rather than torch.tensor(sourceTensor).\n",
      "  item = {key: torch.tensor(val[idx]) for key, val in self.data.items()}\n"
     ]
    },
    {
     "data": {
      "application/vnd.jupyter.widget-view+json": {
       "model_id": "9a666351caed4a19b56612d70f9f2eb5",
       "version_major": 2,
       "version_minor": 0
      },
      "text/plain": [
       "  0%|          | 0/1 [00:00<?, ?it/s]"
      ]
     },
     "metadata": {},
     "output_type": "display_data"
    },
    {
     "name": "stdout",
     "output_type": "stream",
     "text": [
      "Results for dirty_iTunes-Amazon_test, {'eval_loss': 0.5749852657318115, 'eval_accuracy': 0.7037037037037037, 'eval_f1': 0.6521739130434783, 'eval_precision': 0.7894736842105263, 'eval_recall': 0.5555555555555556, 'eval_runtime': 2.6797, 'eval_samples_per_second': 20.151, 'eval_steps_per_second': 0.373}\n"
     ]
    },
    {
     "name": "stderr",
     "output_type": "stream",
     "text": [
      "/Users/carlhelin/Library/CloudStorage/OneDrive-UniversitetetiOslo/Uni Macquarie/COMP8420/major-project/fine-tune/bert_functions.py:15: UserWarning: To copy construct from a tensor, it is recommended to use sourceTensor.clone().detach() or sourceTensor.clone().detach().requires_grad_(True), rather than torch.tensor(sourceTensor).\n",
      "  item = {key: torch.tensor(val[idx]) for key, val in self.data.items()}\n"
     ]
    },
    {
     "data": {
      "application/vnd.jupyter.widget-view+json": {
       "model_id": "50792d40b8c04de089c4b7515ea261f5",
       "version_major": 2,
       "version_minor": 0
      },
      "text/plain": [
       "  0%|          | 0/8 [00:00<?, ?it/s]"
      ]
     },
     "metadata": {},
     "output_type": "display_data"
    },
    {
     "name": "stdout",
     "output_type": "stream",
     "text": [
      "Results for structured_Amazon-Google_test, {'eval_loss': 0.7358266115188599, 'eval_accuracy': 0.6388888888888888, 'eval_f1': 0.6132723112128147, 'eval_precision': 0.6600985221674877, 'eval_recall': 0.5726495726495726, 'eval_runtime': 22.2319, 'eval_samples_per_second': 21.051, 'eval_steps_per_second': 0.36}\n"
     ]
    },
    {
     "name": "stderr",
     "output_type": "stream",
     "text": [
      "/Users/carlhelin/Library/CloudStorage/OneDrive-UniversitetetiOslo/Uni Macquarie/COMP8420/major-project/fine-tune/bert_functions.py:15: UserWarning: To copy construct from a tensor, it is recommended to use sourceTensor.clone().detach() or sourceTensor.clone().detach().requires_grad_(True), rather than torch.tensor(sourceTensor).\n",
      "  item = {key: torch.tensor(val[idx]) for key, val in self.data.items()}\n"
     ]
    },
    {
     "data": {
      "application/vnd.jupyter.widget-view+json": {
       "model_id": "4f5969f64eb54de48f681a9f8d1dde26",
       "version_major": 2,
       "version_minor": 0
      },
      "text/plain": [
       "  0%|          | 0/1 [00:00<?, ?it/s]"
      ]
     },
     "metadata": {},
     "output_type": "display_data"
    },
    {
     "name": "stdout",
     "output_type": "stream",
     "text": [
      "Results for structured_Beer_test, {'eval_loss': 0.7366620898246765, 'eval_accuracy': 0.5833333333333334, 'eval_f1': 0.6428571428571429, 'eval_precision': 0.6428571428571429, 'eval_recall': 0.6428571428571429, 'eval_runtime': 1.1079, 'eval_samples_per_second': 21.663, 'eval_steps_per_second': 0.903}\n"
     ]
    },
    {
     "name": "stderr",
     "output_type": "stream",
     "text": [
      "/Users/carlhelin/Library/CloudStorage/OneDrive-UniversitetetiOslo/Uni Macquarie/COMP8420/major-project/fine-tune/bert_functions.py:15: UserWarning: To copy construct from a tensor, it is recommended to use sourceTensor.clone().detach() or sourceTensor.clone().detach().requires_grad_(True), rather than torch.tensor(sourceTensor).\n",
      "  item = {key: torch.tensor(val[idx]) for key, val in self.data.items()}\n"
     ]
    },
    {
     "data": {
      "application/vnd.jupyter.widget-view+json": {
       "model_id": "2f08207e603c44e0b5d12c6801e33b5d",
       "version_major": 2,
       "version_minor": 0
      },
      "text/plain": [
       "  0%|          | 0/14 [00:00<?, ?it/s]"
      ]
     },
     "metadata": {},
     "output_type": "display_data"
    },
    {
     "name": "stdout",
     "output_type": "stream",
     "text": [
      "Results for structured_DBLP-ACM_test, {'eval_loss': 0.6129065752029419, 'eval_accuracy': 0.6903153153153153, 'eval_f1': 0.6871444823663254, 'eval_precision': 0.6942528735632184, 'eval_recall': 0.6801801801801802, 'eval_runtime': 41.9124, 'eval_samples_per_second': 21.187, 'eval_steps_per_second': 0.334}\n"
     ]
    },
    {
     "name": "stderr",
     "output_type": "stream",
     "text": [
      "/Users/carlhelin/Library/CloudStorage/OneDrive-UniversitetetiOslo/Uni Macquarie/COMP8420/major-project/fine-tune/bert_functions.py:15: UserWarning: To copy construct from a tensor, it is recommended to use sourceTensor.clone().detach() or sourceTensor.clone().detach().requires_grad_(True), rather than torch.tensor(sourceTensor).\n",
      "  item = {key: torch.tensor(val[idx]) for key, val in self.data.items()}\n"
     ]
    },
    {
     "data": {
      "application/vnd.jupyter.widget-view+json": {
       "model_id": "76547bf6f14e4ac5bc80c24f0041ec32",
       "version_major": 2,
       "version_minor": 0
      },
      "text/plain": [
       "  0%|          | 0/14 [00:00<?, ?it/s]"
      ]
     },
     "metadata": {},
     "output_type": "display_data"
    },
    {
     "name": "stdout",
     "output_type": "stream",
     "text": [
      "Results for structured_DBLP-ACM_test, {'eval_loss': 0.6129065752029419, 'eval_accuracy': 0.6903153153153153, 'eval_f1': 0.6871444823663254, 'eval_precision': 0.6942528735632184, 'eval_recall': 0.6801801801801802, 'eval_runtime': 42.7103, 'eval_samples_per_second': 20.791, 'eval_steps_per_second': 0.328}\n"
     ]
    },
    {
     "name": "stderr",
     "output_type": "stream",
     "text": [
      "/Users/carlhelin/Library/CloudStorage/OneDrive-UniversitetetiOslo/Uni Macquarie/COMP8420/major-project/fine-tune/bert_functions.py:15: UserWarning: To copy construct from a tensor, it is recommended to use sourceTensor.clone().detach() or sourceTensor.clone().detach().requires_grad_(True), rather than torch.tensor(sourceTensor).\n",
      "  item = {key: torch.tensor(val[idx]) for key, val in self.data.items()}\n"
     ]
    },
    {
     "data": {
      "application/vnd.jupyter.widget-view+json": {
       "model_id": "850c81397ef04773b95165703a510769",
       "version_major": 2,
       "version_minor": 0
      },
      "text/plain": [
       "  0%|          | 0/34 [00:00<?, ?it/s]"
      ]
     },
     "metadata": {},
     "output_type": "display_data"
    },
    {
     "name": "stdout",
     "output_type": "stream",
     "text": [
      "Results for structured_DBLP-GoogleScholar_test, {'eval_loss': 0.5378163456916809, 'eval_accuracy': 0.7546728971962616, 'eval_f1': 0.7534053546265852, 'eval_precision': 0.7573182247403211, 'eval_recall': 0.7495327102803738, 'eval_runtime': 105.3379, 'eval_samples_per_second': 20.316, 'eval_steps_per_second': 0.323}\n"
     ]
    },
    {
     "name": "stderr",
     "output_type": "stream",
     "text": [
      "/Users/carlhelin/Library/CloudStorage/OneDrive-UniversitetetiOslo/Uni Macquarie/COMP8420/major-project/fine-tune/bert_functions.py:15: UserWarning: To copy construct from a tensor, it is recommended to use sourceTensor.clone().detach() or sourceTensor.clone().detach().requires_grad_(True), rather than torch.tensor(sourceTensor).\n",
      "  item = {key: torch.tensor(val[idx]) for key, val in self.data.items()}\n"
     ]
    },
    {
     "data": {
      "application/vnd.jupyter.widget-view+json": {
       "model_id": "7f65798a506d4a5092013da901a5252c",
       "version_major": 2,
       "version_minor": 0
      },
      "text/plain": [
       "  0%|          | 0/1 [00:00<?, ?it/s]"
      ]
     },
     "metadata": {},
     "output_type": "display_data"
    },
    {
     "name": "stdout",
     "output_type": "stream",
     "text": [
      "Results for structured_Fodors-Zagats_test, {'eval_loss': 0.8666257262229919, 'eval_accuracy': 0.4772727272727273, 'eval_f1': 0.46511627906976744, 'eval_precision': 0.47619047619047616, 'eval_recall': 0.45454545454545453, 'eval_runtime': 2.1566, 'eval_samples_per_second': 20.402, 'eval_steps_per_second': 0.464}\n"
     ]
    },
    {
     "name": "stderr",
     "output_type": "stream",
     "text": [
      "/Users/carlhelin/Library/CloudStorage/OneDrive-UniversitetetiOslo/Uni Macquarie/COMP8420/major-project/fine-tune/bert_functions.py:15: UserWarning: To copy construct from a tensor, it is recommended to use sourceTensor.clone().detach() or sourceTensor.clone().detach().requires_grad_(True), rather than torch.tensor(sourceTensor).\n",
      "  item = {key: torch.tensor(val[idx]) for key, val in self.data.items()}\n"
     ]
    },
    {
     "data": {
      "application/vnd.jupyter.widget-view+json": {
       "model_id": "77d915e822284228a39f2ddf541f2e42",
       "version_major": 2,
       "version_minor": 0
      },
      "text/plain": [
       "  0%|          | 0/1 [00:00<?, ?it/s]"
      ]
     },
     "metadata": {},
     "output_type": "display_data"
    },
    {
     "name": "stdout",
     "output_type": "stream",
     "text": [
      "Results for structured_iTunes-Amazon_test, {'eval_loss': 0.5279843807220459, 'eval_accuracy': 0.6666666666666666, 'eval_f1': 0.5909090909090909, 'eval_precision': 0.7647058823529411, 'eval_recall': 0.48148148148148145, 'eval_runtime': 2.6277, 'eval_samples_per_second': 20.55, 'eval_steps_per_second': 0.381}\n"
     ]
    },
    {
     "name": "stderr",
     "output_type": "stream",
     "text": [
      "/Users/carlhelin/Library/CloudStorage/OneDrive-UniversitetetiOslo/Uni Macquarie/COMP8420/major-project/fine-tune/bert_functions.py:15: UserWarning: To copy construct from a tensor, it is recommended to use sourceTensor.clone().detach() or sourceTensor.clone().detach().requires_grad_(True), rather than torch.tensor(sourceTensor).\n",
      "  item = {key: torch.tensor(val[idx]) for key, val in self.data.items()}\n"
     ]
    },
    {
     "data": {
      "application/vnd.jupyter.widget-view+json": {
       "model_id": "ecc56886d2ac4edb92b3ebb80a3f696c",
       "version_major": 2,
       "version_minor": 0
      },
      "text/plain": [
       "  0%|          | 0/7 [00:00<?, ?it/s]"
      ]
     },
     "metadata": {},
     "output_type": "display_data"
    },
    {
     "name": "stdout",
     "output_type": "stream",
     "text": [
      "Results for structured_Walmart-Amazon_test, {'eval_loss': 0.6925813555717468, 'eval_accuracy': 0.6571428571428571, 'eval_f1': 0.6748768472906403, 'eval_precision': 0.6431924882629108, 'eval_recall': 0.7098445595854922, 'eval_runtime': 21.0403, 'eval_samples_per_second': 18.298, 'eval_steps_per_second': 0.333}\n"
     ]
    },
    {
     "name": "stderr",
     "output_type": "stream",
     "text": [
      "/Users/carlhelin/Library/CloudStorage/OneDrive-UniversitetetiOslo/Uni Macquarie/COMP8420/major-project/fine-tune/bert_functions.py:15: UserWarning: To copy construct from a tensor, it is recommended to use sourceTensor.clone().detach() or sourceTensor.clone().detach().requires_grad_(True), rather than torch.tensor(sourceTensor).\n",
      "  item = {key: torch.tensor(val[idx]) for key, val in self.data.items()}\n"
     ]
    },
    {
     "data": {
      "application/vnd.jupyter.widget-view+json": {
       "model_id": "535729f1a4344595892f5c20baaf4349",
       "version_major": 2,
       "version_minor": 0
      },
      "text/plain": [
       "  0%|          | 0/7 [00:00<?, ?it/s]"
      ]
     },
     "metadata": {},
     "output_type": "display_data"
    },
    {
     "name": "stdout",
     "output_type": "stream",
     "text": [
      "Results for textual_Abt-Buy_test, {'eval_loss': 0.7490178942680359, 'eval_accuracy': 0.5970873786407767, 'eval_f1': 0.5631578947368421, 'eval_precision': 0.6149425287356322, 'eval_recall': 0.5194174757281553, 'eval_runtime': 20.1958, 'eval_samples_per_second': 20.4, 'eval_steps_per_second': 0.347}\n"
     ]
    }
   ],
   "source": [
    "from transformers import BertTokenizer, BertForSequenceClassification, Trainer, TrainingArguments\n",
    "\n",
    "import bert_functions as bf\n",
    "import pandas as pd\n",
    "import sys, os\n",
    "\n",
    "# Model with best results so far\n",
    "model_dir = os.path.join('models', '15000_model_10_hours')\n",
    "\n",
    "model = BertForSequenceClassification.from_pretrained(model_dir, device_map='cpu')\n",
    "tokenizer = BertTokenizer.from_pretrained(model_dir)\n",
    "\n",
    "# Different datasets\n",
    "encoded_dir = 'encoded'\n",
    "loaded_datasets = bf.load_encoded_datasets(encoded_dir, bf.all_datasets)\n",
    "\n",
    "# List with test datasets\n",
    "names = ['dirty_DBLP-ACM_test', 'dirty_DBLP-GoogleScholar_test', 'dirty_iTunes-Amazon_test', \\\n",
    "            'structured_Amazon-Google_test', 'structured_Beer_test', 'structured_DBLP-ACM_test', \\\n",
    "            'structured_DBLP-ACM_test', 'structured_DBLP-GoogleScholar_test', 'structured_Fodors-Zagats_test', \\\n",
    "            'structured_iTunes-Amazon_test', 'structured_Walmart-Amazon_test', 'textual_Abt-Buy_test', \\\n",
    "]\n",
    "\n",
    "# Create a DataFrame to store the results\n",
    "results_df = pd.DataFrame(columns=['Type', 'Dataset', 'Accuracy', 'Precision', 'Recall', 'F1'])\n",
    "\n",
    "training_args = TrainingArguments(\n",
    "    output_dir='./results',\n",
    "    num_train_epochs=3,\n",
    "    per_device_train_batch_size=16,\n",
    "    per_device_eval_batch_size=64,\n",
    "    warmup_steps=500,\n",
    "    weight_decay=0.01,\n",
    "    logging_dir='./logs',\n",
    ")\n",
    "\n",
    "trainer = Trainer(\n",
    "    model=model, \n",
    "    args=training_args,\n",
    "    compute_metrics=bf.compute_metrics,\n",
    ")\n",
    "\n",
    "# Evaluate the model on each dataset\n",
    "for dataset in names:\n",
    "    combined_test_dataset = loaded_datasets[dataset]\n",
    "    test_dataset = bf.CustomDataset(combined_test_dataset)\n",
    "\n",
    "    # Evaluate the model\n",
    "    test_result = trainer.evaluate(eval_dataset=test_dataset)\n",
    "    print(f\"Results for {dataset}, {test_result}\")\n",
    "    \n",
    "    results_df.loc[len(results_df)] = [\n",
    "        dataset.split('_')[0], \n",
    "        dataset.split('_')[1], \n",
    "        test_result['eval_accuracy'], \n",
    "        test_result['eval_precision'], \n",
    "        test_result['eval_recall'], \n",
    "        test_result['eval_f1']\n",
    "    ]\n",
    "\n",
    "# Save the results to a csv file\n",
    "sys.path.append(\"..\")\n",
    "results_path = os.path.join('results', 'distilbert_results.csv')\n",
    "results_df.to_csv(results_path)"
   ]
  }
 ],
 "metadata": {
  "kernelspec": {
   "display_name": "base",
   "language": "python",
   "name": "python3"
  },
  "language_info": {
   "codemirror_mode": {
    "name": "ipython",
    "version": 3
   },
   "file_extension": ".py",
   "mimetype": "text/x-python",
   "name": "python",
   "nbconvert_exporter": "python",
   "pygments_lexer": "ipython3",
   "version": "3.11.9"
  }
 },
 "nbformat": 4,
 "nbformat_minor": 2
}
