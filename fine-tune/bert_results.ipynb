{
 "cells": [
  {
   "cell_type": "code",
   "execution_count": 1,
   "metadata": {},
   "outputs": [
    {
     "name": "stderr",
     "output_type": "stream",
     "text": [
      "/Users/carlhelin/anaconda3/lib/python3.11/site-packages/pandas/core/arrays/masked.py:60: UserWarning: Pandas requires version '1.3.6' or newer of 'bottleneck' (version '1.3.5' currently installed).\n",
      "  from pandas.core import (\n"
     ]
    },
    {
     "name": "stdout",
     "output_type": "stream",
     "text": [
      "Dataset structured_Abt-Buy does not exist\n",
      "Dataset textual_DBLP-ACM does not exist\n",
      "Dataset textual_Amazon-Google does not exist\n",
      "Dataset textual_Walmart-Amazon does not exist\n",
      "Dataset textual_DBLP-GoogleScholar does not exist\n",
      "Dataset textual_Fodors-Zagats does not exist\n",
      "Dataset textual_Beer does not exist\n",
      "Dataset textual_iTunes-Amazon does not exist\n",
      "Dataset dirty_Abt-Buy does not exist\n",
      "Dataset dirty_Amazon-Google does not exist\n",
      "Dataset dirty_Fodors-Zagats does not exist\n",
      "Dataset dirty_Beer does not exist\n"
     ]
    },
    {
     "name": "stderr",
     "output_type": "stream",
     "text": [
      "/Users/carlhelin/Library/CloudStorage/OneDrive-UniversitetetiOslo/Uni Macquarie/COMP8420/major-project/fine-tune/bert_functions.py:15: UserWarning: To copy construct from a tensor, it is recommended to use sourceTensor.clone().detach() or sourceTensor.clone().detach().requires_grad_(True), rather than torch.tensor(sourceTensor).\n",
      "  item = {key: torch.tensor(val[idx]) for key, val in self.data.items()}\n"
     ]
    },
    {
     "data": {
      "application/vnd.jupyter.widget-view+json": {
       "model_id": "89a43985e8f9466fa916c24711fcdc61",
       "version_major": 2,
       "version_minor": 0
      },
      "text/plain": [
       "  0%|          | 0/14 [00:00<?, ?it/s]"
      ]
     },
     "metadata": {},
     "output_type": "display_data"
    },
    {
     "name": "stderr",
     "output_type": "stream",
     "text": [
      "/Users/carlhelin/Library/CloudStorage/OneDrive-UniversitetetiOslo/Uni Macquarie/COMP8420/major-project/fine-tune/bert_functions.py:15: UserWarning: To copy construct from a tensor, it is recommended to use sourceTensor.clone().detach() or sourceTensor.clone().detach().requires_grad_(True), rather than torch.tensor(sourceTensor).\n",
      "  item = {key: torch.tensor(val[idx]) for key, val in self.data.items()}\n"
     ]
    },
    {
     "data": {
      "application/vnd.jupyter.widget-view+json": {
       "model_id": "f3661664297b4825beb83feabfb105df",
       "version_major": 2,
       "version_minor": 0
      },
      "text/plain": [
       "  0%|          | 0/34 [00:00<?, ?it/s]"
      ]
     },
     "metadata": {},
     "output_type": "display_data"
    },
    {
     "name": "stderr",
     "output_type": "stream",
     "text": [
      "/Users/carlhelin/Library/CloudStorage/OneDrive-UniversitetetiOslo/Uni Macquarie/COMP8420/major-project/fine-tune/bert_functions.py:15: UserWarning: To copy construct from a tensor, it is recommended to use sourceTensor.clone().detach() or sourceTensor.clone().detach().requires_grad_(True), rather than torch.tensor(sourceTensor).\n",
      "  item = {key: torch.tensor(val[idx]) for key, val in self.data.items()}\n"
     ]
    },
    {
     "data": {
      "application/vnd.jupyter.widget-view+json": {
       "model_id": "baf8cda06a4d4d64ac0e79dd7740bb1d",
       "version_major": 2,
       "version_minor": 0
      },
      "text/plain": [
       "  0%|          | 0/1 [00:00<?, ?it/s]"
      ]
     },
     "metadata": {},
     "output_type": "display_data"
    },
    {
     "name": "stderr",
     "output_type": "stream",
     "text": [
      "/Users/carlhelin/Library/CloudStorage/OneDrive-UniversitetetiOslo/Uni Macquarie/COMP8420/major-project/fine-tune/bert_functions.py:15: UserWarning: To copy construct from a tensor, it is recommended to use sourceTensor.clone().detach() or sourceTensor.clone().detach().requires_grad_(True), rather than torch.tensor(sourceTensor).\n",
      "  item = {key: torch.tensor(val[idx]) for key, val in self.data.items()}\n"
     ]
    },
    {
     "data": {
      "application/vnd.jupyter.widget-view+json": {
       "model_id": "dbf4bcf67f084c24b42bd26170d54cbd",
       "version_major": 2,
       "version_minor": 0
      },
      "text/plain": [
       "  0%|          | 0/8 [00:00<?, ?it/s]"
      ]
     },
     "metadata": {},
     "output_type": "display_data"
    },
    {
     "name": "stderr",
     "output_type": "stream",
     "text": [
      "/Users/carlhelin/Library/CloudStorage/OneDrive-UniversitetetiOslo/Uni Macquarie/COMP8420/major-project/fine-tune/bert_functions.py:15: UserWarning: To copy construct from a tensor, it is recommended to use sourceTensor.clone().detach() or sourceTensor.clone().detach().requires_grad_(True), rather than torch.tensor(sourceTensor).\n",
      "  item = {key: torch.tensor(val[idx]) for key, val in self.data.items()}\n"
     ]
    },
    {
     "data": {
      "application/vnd.jupyter.widget-view+json": {
       "model_id": "73dc0b89d94c4e469934bd528c40e31c",
       "version_major": 2,
       "version_minor": 0
      },
      "text/plain": [
       "  0%|          | 0/1 [00:00<?, ?it/s]"
      ]
     },
     "metadata": {},
     "output_type": "display_data"
    },
    {
     "name": "stderr",
     "output_type": "stream",
     "text": [
      "/Users/carlhelin/Library/CloudStorage/OneDrive-UniversitetetiOslo/Uni Macquarie/COMP8420/major-project/fine-tune/bert_functions.py:15: UserWarning: To copy construct from a tensor, it is recommended to use sourceTensor.clone().detach() or sourceTensor.clone().detach().requires_grad_(True), rather than torch.tensor(sourceTensor).\n",
      "  item = {key: torch.tensor(val[idx]) for key, val in self.data.items()}\n"
     ]
    },
    {
     "data": {
      "application/vnd.jupyter.widget-view+json": {
       "model_id": "550e77bb02e84305b14d04a38e1b8627",
       "version_major": 2,
       "version_minor": 0
      },
      "text/plain": [
       "  0%|          | 0/14 [00:00<?, ?it/s]"
      ]
     },
     "metadata": {},
     "output_type": "display_data"
    },
    {
     "name": "stderr",
     "output_type": "stream",
     "text": [
      "/Users/carlhelin/Library/CloudStorage/OneDrive-UniversitetetiOslo/Uni Macquarie/COMP8420/major-project/fine-tune/bert_functions.py:15: UserWarning: To copy construct from a tensor, it is recommended to use sourceTensor.clone().detach() or sourceTensor.clone().detach().requires_grad_(True), rather than torch.tensor(sourceTensor).\n",
      "  item = {key: torch.tensor(val[idx]) for key, val in self.data.items()}\n"
     ]
    },
    {
     "data": {
      "application/vnd.jupyter.widget-view+json": {
       "model_id": "2a0751af463949b6a5baf0c39fc85151",
       "version_major": 2,
       "version_minor": 0
      },
      "text/plain": [
       "  0%|          | 0/14 [00:00<?, ?it/s]"
      ]
     },
     "metadata": {},
     "output_type": "display_data"
    },
    {
     "name": "stderr",
     "output_type": "stream",
     "text": [
      "/Users/carlhelin/Library/CloudStorage/OneDrive-UniversitetetiOslo/Uni Macquarie/COMP8420/major-project/fine-tune/bert_functions.py:15: UserWarning: To copy construct from a tensor, it is recommended to use sourceTensor.clone().detach() or sourceTensor.clone().detach().requires_grad_(True), rather than torch.tensor(sourceTensor).\n",
      "  item = {key: torch.tensor(val[idx]) for key, val in self.data.items()}\n"
     ]
    },
    {
     "data": {
      "application/vnd.jupyter.widget-view+json": {
       "model_id": "48c2c0751f0d4cb78589d9da14719e49",
       "version_major": 2,
       "version_minor": 0
      },
      "text/plain": [
       "  0%|          | 0/34 [00:00<?, ?it/s]"
      ]
     },
     "metadata": {},
     "output_type": "display_data"
    },
    {
     "name": "stderr",
     "output_type": "stream",
     "text": [
      "/Users/carlhelin/Library/CloudStorage/OneDrive-UniversitetetiOslo/Uni Macquarie/COMP8420/major-project/fine-tune/bert_functions.py:15: UserWarning: To copy construct from a tensor, it is recommended to use sourceTensor.clone().detach() or sourceTensor.clone().detach().requires_grad_(True), rather than torch.tensor(sourceTensor).\n",
      "  item = {key: torch.tensor(val[idx]) for key, val in self.data.items()}\n"
     ]
    },
    {
     "data": {
      "application/vnd.jupyter.widget-view+json": {
       "model_id": "e5c35fe63f3a49be89ba9ecc418d02ed",
       "version_major": 2,
       "version_minor": 0
      },
      "text/plain": [
       "  0%|          | 0/1 [00:00<?, ?it/s]"
      ]
     },
     "metadata": {},
     "output_type": "display_data"
    },
    {
     "name": "stderr",
     "output_type": "stream",
     "text": [
      "/Users/carlhelin/Library/CloudStorage/OneDrive-UniversitetetiOslo/Uni Macquarie/COMP8420/major-project/fine-tune/bert_functions.py:15: UserWarning: To copy construct from a tensor, it is recommended to use sourceTensor.clone().detach() or sourceTensor.clone().detach().requires_grad_(True), rather than torch.tensor(sourceTensor).\n",
      "  item = {key: torch.tensor(val[idx]) for key, val in self.data.items()}\n"
     ]
    },
    {
     "data": {
      "application/vnd.jupyter.widget-view+json": {
       "model_id": "10e58481785b4b46add675e82610c538",
       "version_major": 2,
       "version_minor": 0
      },
      "text/plain": [
       "  0%|          | 0/1 [00:00<?, ?it/s]"
      ]
     },
     "metadata": {},
     "output_type": "display_data"
    },
    {
     "name": "stderr",
     "output_type": "stream",
     "text": [
      "/Users/carlhelin/Library/CloudStorage/OneDrive-UniversitetetiOslo/Uni Macquarie/COMP8420/major-project/fine-tune/bert_functions.py:15: UserWarning: To copy construct from a tensor, it is recommended to use sourceTensor.clone().detach() or sourceTensor.clone().detach().requires_grad_(True), rather than torch.tensor(sourceTensor).\n",
      "  item = {key: torch.tensor(val[idx]) for key, val in self.data.items()}\n"
     ]
    },
    {
     "data": {
      "application/vnd.jupyter.widget-view+json": {
       "model_id": "bb35804ac39048f7920de2035b45f289",
       "version_major": 2,
       "version_minor": 0
      },
      "text/plain": [
       "  0%|          | 0/7 [00:00<?, ?it/s]"
      ]
     },
     "metadata": {},
     "output_type": "display_data"
    },
    {
     "name": "stderr",
     "output_type": "stream",
     "text": [
      "/Users/carlhelin/Library/CloudStorage/OneDrive-UniversitetetiOslo/Uni Macquarie/COMP8420/major-project/fine-tune/bert_functions.py:15: UserWarning: To copy construct from a tensor, it is recommended to use sourceTensor.clone().detach() or sourceTensor.clone().detach().requires_grad_(True), rather than torch.tensor(sourceTensor).\n",
      "  item = {key: torch.tensor(val[idx]) for key, val in self.data.items()}\n"
     ]
    },
    {
     "data": {
      "application/vnd.jupyter.widget-view+json": {
       "model_id": "fdee9c5b41034729bcc39fcce7094c2b",
       "version_major": 2,
       "version_minor": 0
      },
      "text/plain": [
       "  0%|          | 0/7 [00:00<?, ?it/s]"
      ]
     },
     "metadata": {},
     "output_type": "display_data"
    },
    {
     "data": {
      "text/html": [
       "<div>\n",
       "<style scoped>\n",
       "    .dataframe tbody tr th:only-of-type {\n",
       "        vertical-align: middle;\n",
       "    }\n",
       "\n",
       "    .dataframe tbody tr th {\n",
       "        vertical-align: top;\n",
       "    }\n",
       "\n",
       "    .dataframe thead th {\n",
       "        text-align: right;\n",
       "    }\n",
       "</style>\n",
       "<table border=\"1\" class=\"dataframe\">\n",
       "  <thead>\n",
       "    <tr style=\"text-align: right;\">\n",
       "      <th></th>\n",
       "      <th>0</th>\n",
       "      <th>1</th>\n",
       "      <th>2</th>\n",
       "      <th>3</th>\n",
       "      <th>4</th>\n",
       "      <th>5</th>\n",
       "      <th>6</th>\n",
       "      <th>7</th>\n",
       "      <th>8</th>\n",
       "      <th>9</th>\n",
       "      <th>10</th>\n",
       "      <th>11</th>\n",
       "    </tr>\n",
       "  </thead>\n",
       "  <tbody>\n",
       "    <tr>\n",
       "      <th>Type</th>\n",
       "      <td>dirty</td>\n",
       "      <td>dirty</td>\n",
       "      <td>dirty</td>\n",
       "      <td>structured</td>\n",
       "      <td>structured</td>\n",
       "      <td>structured</td>\n",
       "      <td>structured</td>\n",
       "      <td>structured</td>\n",
       "      <td>structured</td>\n",
       "      <td>structured</td>\n",
       "      <td>structured</td>\n",
       "      <td>textual</td>\n",
       "    </tr>\n",
       "    <tr>\n",
       "      <th>Dataset</th>\n",
       "      <td>DBLP-ACM</td>\n",
       "      <td>DBLP-GoogleScholar</td>\n",
       "      <td>iTunes-Amazon</td>\n",
       "      <td>Amazon-Google</td>\n",
       "      <td>Beer</td>\n",
       "      <td>DBLP-ACM</td>\n",
       "      <td>DBLP-ACM</td>\n",
       "      <td>DBLP-GoogleScholar</td>\n",
       "      <td>Fodors-Zagats</td>\n",
       "      <td>iTunes-Amazon</td>\n",
       "      <td>Walmart-Amazon</td>\n",
       "      <td>Abt-Buy</td>\n",
       "    </tr>\n",
       "    <tr>\n",
       "      <th>Accuracy</th>\n",
       "      <td>0.707207</td>\n",
       "      <td>0.73972</td>\n",
       "      <td>0.62963</td>\n",
       "      <td>0.666667</td>\n",
       "      <td>0.708333</td>\n",
       "      <td>0.71509</td>\n",
       "      <td>0.71509</td>\n",
       "      <td>0.742056</td>\n",
       "      <td>0.522727</td>\n",
       "      <td>0.759259</td>\n",
       "      <td>0.654545</td>\n",
       "      <td>0.652913</td>\n",
       "    </tr>\n",
       "    <tr>\n",
       "      <th>Precision</th>\n",
       "      <td>0.712963</td>\n",
       "      <td>0.759878</td>\n",
       "      <td>0.705882</td>\n",
       "      <td>0.675676</td>\n",
       "      <td>0.733333</td>\n",
       "      <td>0.708972</td>\n",
       "      <td>0.708972</td>\n",
       "      <td>0.74761</td>\n",
       "      <td>0.514286</td>\n",
       "      <td>0.791667</td>\n",
       "      <td>0.627119</td>\n",
       "      <td>0.664921</td>\n",
       "    </tr>\n",
       "    <tr>\n",
       "      <th>Recall</th>\n",
       "      <td>0.693694</td>\n",
       "      <td>0.700935</td>\n",
       "      <td>0.444444</td>\n",
       "      <td>0.641026</td>\n",
       "      <td>0.785714</td>\n",
       "      <td>0.72973</td>\n",
       "      <td>0.72973</td>\n",
       "      <td>0.730841</td>\n",
       "      <td>0.818182</td>\n",
       "      <td>0.703704</td>\n",
       "      <td>0.766839</td>\n",
       "      <td>0.616505</td>\n",
       "    </tr>\n",
       "    <tr>\n",
       "      <th>F1</th>\n",
       "      <td>0.703196</td>\n",
       "      <td>0.729217</td>\n",
       "      <td>0.545455</td>\n",
       "      <td>0.657895</td>\n",
       "      <td>0.758621</td>\n",
       "      <td>0.719201</td>\n",
       "      <td>0.719201</td>\n",
       "      <td>0.73913</td>\n",
       "      <td>0.631579</td>\n",
       "      <td>0.745098</td>\n",
       "      <td>0.689977</td>\n",
       "      <td>0.639798</td>\n",
       "    </tr>\n",
       "  </tbody>\n",
       "</table>\n",
       "</div>"
      ],
      "text/plain": [
       "                 0                   1              2              3   \\\n",
       "Type          dirty               dirty          dirty     structured   \n",
       "Dataset    DBLP-ACM  DBLP-GoogleScholar  iTunes-Amazon  Amazon-Google   \n",
       "Accuracy   0.707207             0.73972        0.62963       0.666667   \n",
       "Precision  0.712963            0.759878       0.705882       0.675676   \n",
       "Recall     0.693694            0.700935       0.444444       0.641026   \n",
       "F1         0.703196            0.729217       0.545455       0.657895   \n",
       "\n",
       "                   4           5           6                   7   \\\n",
       "Type       structured  structured  structured          structured   \n",
       "Dataset          Beer    DBLP-ACM    DBLP-ACM  DBLP-GoogleScholar   \n",
       "Accuracy     0.708333     0.71509     0.71509            0.742056   \n",
       "Precision    0.733333    0.708972    0.708972             0.74761   \n",
       "Recall       0.785714     0.72973     0.72973            0.730841   \n",
       "F1           0.758621    0.719201    0.719201             0.73913   \n",
       "\n",
       "                      8              9               10        11  \n",
       "Type          structured     structured      structured   textual  \n",
       "Dataset    Fodors-Zagats  iTunes-Amazon  Walmart-Amazon   Abt-Buy  \n",
       "Accuracy        0.522727       0.759259        0.654545  0.652913  \n",
       "Precision       0.514286       0.791667        0.627119  0.664921  \n",
       "Recall          0.818182       0.703704        0.766839  0.616505  \n",
       "F1              0.631579       0.745098        0.689977  0.639798  "
      ]
     },
     "execution_count": 1,
     "metadata": {},
     "output_type": "execute_result"
    }
   ],
   "source": [
    "from transformers import BertTokenizer, BertForSequenceClassification, Trainer, TrainingArguments\n",
    "\n",
    "import bert_functions as bf\n",
    "import pandas as pd\n",
    "import os\n",
    "\n",
    "# Model with best results so far\n",
    "model_dir = os.path.join('models', 'size_16000_00:56:40')\n",
    "\n",
    "model = BertForSequenceClassification.from_pretrained(model_dir, device_map='cpu')\n",
    "tokenizer = BertTokenizer.from_pretrained(model_dir)\n",
    "\n",
    "# Different datasets\n",
    "encoded_dir = 'encoded'\n",
    "loaded_datasets = bf.load_encoded_datasets(encoded_dir, bf.all_datasets)\n",
    "\n",
    "# List with test datasets\n",
    "names = ['dirty_DBLP-ACM_test', 'dirty_DBLP-GoogleScholar_test', 'dirty_iTunes-Amazon_test', \\\n",
    "            'structured_Amazon-Google_test', 'structured_Beer_test', 'structured_DBLP-ACM_test', \\\n",
    "            'structured_DBLP-ACM_test', 'structured_DBLP-GoogleScholar_test', 'structured_Fodors-Zagats_test', \\\n",
    "            'structured_iTunes-Amazon_test', 'structured_Walmart-Amazon_test', 'textual_Abt-Buy_test', \\\n",
    "]\n",
    "\n",
    "# Create a DataFrame to store the results\n",
    "results_df = pd.DataFrame(columns=['Type', 'Dataset', 'Accuracy', 'Precision', 'Recall', 'F1'])\n",
    "\n",
    "training_args = TrainingArguments(\n",
    "    output_dir='./results',\n",
    "    num_train_epochs=3,\n",
    "    per_device_train_batch_size=16,\n",
    "    per_device_eval_batch_size=64,\n",
    "    warmup_steps=500,\n",
    "    weight_decay=0.01,\n",
    "    logging_dir='./logs',\n",
    ")\n",
    "\n",
    "trainer = Trainer(\n",
    "    model=model, \n",
    "    args=training_args,\n",
    "    compute_metrics=bf.compute_metrics,\n",
    ")\n",
    "\n",
    "# Evaluate the model on each dataset\n",
    "for dataset in names:\n",
    "    combined_test_dataset = loaded_datasets[dataset]\n",
    "    test_dataset = bf.CustomDataset(combined_test_dataset)\n",
    "\n",
    "    # Evaluate the model\n",
    "    test_result = trainer.evaluate(eval_dataset=test_dataset)\n",
    "    \n",
    "    results_df.loc[len(results_df)] = [\n",
    "        dataset.split('_')[0], \n",
    "        dataset.split('_')[1], \n",
    "        test_result['eval_accuracy'], \n",
    "        test_result['eval_precision'], \n",
    "        test_result['eval_recall'], \n",
    "        test_result['eval_f1']\n",
    "    ]\n",
    "\n",
    "# Save the results to a csv in the results folder in parent directory\n",
    "parent_dir = os.path.dirname(os.getcwd())\n",
    "results_path = os.path.join(parent_dir, 'results', 'bert_results.csv')\n",
    "results_df.to_csv(results_path)\n",
    "results_df.T"
   ]
  }
 ],
 "metadata": {
  "kernelspec": {
   "display_name": "base",
   "language": "python",
   "name": "python3"
  },
  "language_info": {
   "codemirror_mode": {
    "name": "ipython",
    "version": 3
   },
   "file_extension": ".py",
   "mimetype": "text/x-python",
   "name": "python",
   "nbconvert_exporter": "python",
   "pygments_lexer": "ipython3",
   "version": "3.11.9"
  }
 },
 "nbformat": 4,
 "nbformat_minor": 2
}
