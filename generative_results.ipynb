{
 "cells": [
  {
   "cell_type": "code",
   "execution_count": 1,
   "metadata": {},
   "outputs": [
    {
     "name": "stderr",
     "output_type": "stream",
     "text": [
      "/Users/carlhelin/anaconda3/lib/python3.11/site-packages/pandas/core/arrays/masked.py:60: UserWarning: Pandas requires version '1.3.6' or newer of 'bottleneck' (version '1.3.5' currently installed).\n",
      "  from pandas.core import (\n"
     ]
    }
   ],
   "source": [
    "from sklearn.metrics import accuracy_score, precision_score, recall_score, f1_score\n",
    "import pandas as pd\n",
    "import pathlib\n",
    "\n",
    "# Functions\n",
    "def create_datasets(dataset_names, base_path=None):\n",
    "    datasets = {}\n",
    "    for name in dataset_names:\n",
    "        file_path = f'{base_path}/{name}.csv'\n",
    "        datasets[name] = pd.read_csv(file_path)\n",
    "    return datasets\n",
    "\n",
    "def acc_pre_rec_f1(df):\n",
    "    df = df[df['pred'] != -1]\n",
    "    return {\n",
    "        'Accuracy': accuracy_score(df['label'], df['pred']),\n",
    "        'Precision': precision_score(df['label'], df['pred']),\n",
    "        'Recall': recall_score(df['label'], df['pred']),\n",
    "        'F1': f1_score(df['label'], df['pred'])\n",
    "    }\n",
    "\n",
    "def f1_group(df):\n",
    "    df = df[df['pred'] != -1]\n",
    "    metrics = {}\n",
    "    for (general_or_domain, simple_or_complex), group in df.groupby(['general_or_domain', 'simple_or_complex']):\n",
    "        name = f'{general_or_domain}_{simple_or_complex}'\n",
    "        metrics[name] = {\n",
    "            'F1': f1_score(group['label'], group['pred'])\n",
    "        }\n",
    "    return metrics\n",
    "\n",
    "def calculate_results(datasets):\n",
    "    results = []\n",
    "    for name, df in datasets.items():\n",
    "        type_, dataset = name.split('_')\n",
    "        metrics = f1_group(df)\n",
    "        row = [type_, dataset]\n",
    "        for metric_name in ['domain_complex', 'domain_simple', 'general_simple', 'general_complex']:\n",
    "            f1_score = metrics.get(metric_name, {}).get('F1', None)\n",
    "            row.append(f1_score)\n",
    "        results.append(row)\n",
    "    return results"
   ]
  },
  {
   "cell_type": "code",
   "execution_count": 2,
   "metadata": {},
   "outputs": [
    {
     "name": "stdout",
     "output_type": "stream",
     "text": [
      "Llama3\n",
      "      Type        Dataset  Accuracy  Precision   Recall       F1\n",
      "     dirty       DBLP-ACM  0.483080   0.236651 0.847285 0.369968\n",
      "     dirty  iTunes-Amazon  0.373853   0.270195 0.898148 0.415418\n",
      "     dirty Walmart-Amazon  0.635387   0.185585 0.847150 0.304469\n",
      "structured       DBLP-ACM  0.438621   0.232828 0.931445 0.372536\n",
      "structured  iTunes-Amazon  0.403670   0.273810 0.851852 0.414414\n",
      "structured Walmart-Amazon  0.565955   0.167740 0.910622 0.283296\n",
      "structured           Beer  0.708791   0.343750 0.982143 0.509259\n",
      "structured  Fodors-Zagats  0.748677   0.294355 0.829545 0.434524\n",
      "structured  Amazon-Google  0.679463   0.203083 0.731838 0.317939\n",
      "   textual        Abt-Buy  0.716077   0.260376 0.891859 0.403075 \n",
      "\n",
      "Gemini\n",
      "      Type        Dataset  Accuracy  Precision   Recall       F1\n",
      "     dirty       DBLP-ACM  0.928730   0.736215 0.939752 0.825625\n",
      "     dirty  iTunes-Amazon  0.717890   0.462687 0.861111 0.601942\n",
      "     dirty Walmart-Amazon  0.926672   0.612648 0.602332 0.607446\n",
      "structured       DBLP-ACM  0.905884   0.658656 0.987613 0.790268\n",
      "structured  iTunes-Amazon  0.642202   0.398305 0.870370 0.546512\n",
      "structured Walmart-Amazon  0.944241   0.775832 0.573834 0.659717\n",
      "structured           Beer  0.928375   0.916667 0.589286 0.717391\n",
      "structured  Fodors-Zagats  0.948413   0.728972 0.886364 0.800000\n",
      "structured  Amazon-Google  0.894352   0.481100 0.448718 0.464345\n",
      "   textual        Abt-Buy  0.938592   0.768645 0.612864 0.681972\n"
     ]
    }
   ],
   "source": [
    "gemini_results_path = pathlib.Path('generative', 'gemini_predictions')\n",
    "llama3_results_path = pathlib.Path('generative', 'llama3_predictions')\n",
    "\n",
    "dataset_names = ['dirty_DBLP-ACM', 'dirty_iTunes-Amazon', 'dirty_Walmart-Amazon', \n",
    "                 'structured_DBLP-ACM', 'structured_iTunes-Amazon', 'structured_Walmart-Amazon', \n",
    "                 'structured_Beer', 'structured_Fodors-Zagats', 'structured_Amazon-Google', \n",
    "                 'textual_Abt-Buy']\n",
    "\n",
    "llama3_datasets = create_datasets(dataset_names, base_path=llama3_results_path)\n",
    "gemini_datasets = create_datasets(dataset_names, base_path=gemini_results_path)\n",
    "\n",
    "llama3_results = {name: acc_pre_rec_f1(df) for name, df in llama3_datasets.items()}\n",
    "gemini_results = {name: acc_pre_rec_f1(df) for name, df in gemini_datasets.items()}\n",
    "\n",
    "llama3_results_df = pd.DataFrame(llama3_results).T\n",
    "gemini_results_df = pd.DataFrame(gemini_results).T\n",
    "\n",
    "# Split the index into 'Type' and 'Dataset'\n",
    "llama3_results_df.index = pd.MultiIndex.from_tuples(llama3_results_df.index.str.split('_').tolist(), names=['Type', 'Dataset'])\n",
    "gemini_results_df.index = pd.MultiIndex.from_tuples(gemini_results_df.index.str.split('_').tolist(), names=['Type', 'Dataset'])\n",
    "\n",
    "# Reset the index to make 'Type' and 'Dataset' as columns\n",
    "llama3_results_df.reset_index(inplace=True)\n",
    "gemini_results_df.reset_index(inplace=True)\n",
    "\n",
    "# Reorder the columns\n",
    "llama3_results_df = llama3_results_df[['Type', 'Dataset', 'Accuracy', 'Precision', 'Recall', 'F1']]\n",
    "gemini_results_df = gemini_results_df[['Type', 'Dataset', 'Accuracy', 'Precision', 'Recall', 'F1']]\n",
    "\n",
    "# Save to csv\n",
    "llama3_results_df.to_csv('results/llama3_results.csv', index=False)\n",
    "gemini_results_df.to_csv('results/gemini_results.csv', index=False)\n",
    "\n",
    "# Print the dataframes\n",
    "print(\"Llama3\")\n",
    "print(llama3_results_df.to_string(index=False), \"\\n\")\n",
    "\n",
    "print(\"Gemini\")\n",
    "print(gemini_results_df.to_string(index=False))"
   ]
  },
  {
   "cell_type": "code",
   "execution_count": 3,
   "metadata": {},
   "outputs": [
    {
     "name": "stdout",
     "output_type": "stream",
     "text": [
      "Llama3\n",
      "      Type        Dataset  Domain Complex  Domain Simple  General Simple  General Complex\n",
      "     dirty       DBLP-ACM        0.512350       0.334229        0.306267         0.380211\n",
      "     dirty  iTunes-Amazon        0.454545       0.442308        0.372881         0.400000\n",
      "     dirty Walmart-Amazon        0.376321       0.396301        0.209827         0.309108\n",
      "structured       DBLP-ACM        0.568846       0.330146        0.323681         0.349310\n",
      "structured  iTunes-Amazon        0.527473       0.440000        0.330579         0.393939\n",
      "structured Walmart-Amazon        0.358923       0.438320        0.197876         0.254081\n",
      "structured           Beer        0.903226       0.337662        0.373333         0.848485\n",
      "structured  Fodors-Zagats        0.816327       0.388350        0.209790         0.878049\n",
      "structured  Amazon-Google        0.279461       0.383167        0.264463         0.383315\n",
      "   textual        Abt-Buy        0.410811       0.570978        0.306452         0.397104 \n",
      "\n",
      "Gemini\n",
      "      Type        Dataset  Domain Complex  Domain Simple  General Simple  General Complex\n",
      "     dirty       DBLP-ACM        0.868369       0.835359        0.806773         0.795699\n",
      "     dirty  iTunes-Amazon        0.574468       0.833333        0.727273         0.464286\n",
      "     dirty Walmart-Amazon        0.732919       0.331915        0.487633         0.679245\n",
      "structured       DBLP-ACM        0.813590       0.820416        0.745909         0.785146\n",
      "structured  iTunes-Amazon        0.559140       0.734694        0.578313         0.436975\n",
      "structured Walmart-Amazon        0.805970       0.383333        0.501818         0.779343\n",
      "structured           Beer        0.800000       0.600000        0.636364         0.800000\n",
      "structured  Fodors-Zagats        0.875000       0.810811        0.909091         0.666667\n",
      "structured  Amazon-Google        0.610909       0.176471        0.209150         0.575624\n",
      "   textual        Abt-Buy        0.839827       0.362205        0.480565         0.817427\n"
     ]
    }
   ],
   "source": [
    "llama3_results = calculate_results(llama3_datasets)\n",
    "gemini_results = calculate_results(gemini_datasets)\n",
    "\n",
    "df_llama3 = pd.DataFrame(llama3_results, columns=['Type', 'Dataset', 'Domain Complex', 'Domain Simple', 'General Simple', 'General Complex'])\n",
    "df_gemini = pd.DataFrame(gemini_results, columns=['Type', 'Dataset', 'Domain Complex', 'Domain Simple', 'General Simple', 'General Complex'])\n",
    "\n",
    "# save to csv\n",
    "df_llama3.to_csv('results/llama3_results_prompt.csv', index=False)\n",
    "df_gemini.to_csv('results/gemini_results_prompt.csv', index=False)\n",
    "\n",
    "print(\"Llama3\")\n",
    "print(df_llama3.to_string(index=False), \"\\n\")\n",
    "\n",
    "print(\"Gemini\")\n",
    "print(df_gemini.to_string(index=False))"
   ]
  }
 ],
 "metadata": {
  "kernelspec": {
   "display_name": "base",
   "language": "python",
   "name": "python3"
  },
  "language_info": {
   "codemirror_mode": {
    "name": "ipython",
    "version": 3
   },
   "file_extension": ".py",
   "mimetype": "text/x-python",
   "name": "python",
   "nbconvert_exporter": "python",
   "pygments_lexer": "ipython3",
   "version": "3.11.9"
  }
 },
 "nbformat": 4,
 "nbformat_minor": 2
}
